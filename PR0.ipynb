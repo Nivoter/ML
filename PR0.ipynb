{
  "nbformat": 4,
  "nbformat_minor": 0,
  "metadata": {
    "colab": {
      "name": "Untitled0.ipynb",
      "provenance": [],
      "authorship_tag": "ABX9TyMWRoBsOsMdqsM1YbS+tQ8I",
      "include_colab_link": true
    },
    "kernelspec": {
      "name": "python3",
      "display_name": "Python 3"
    }
  },
  "cells": [
    {
      "cell_type": "markdown",
      "metadata": {
        "id": "view-in-github",
        "colab_type": "text"
      },
      "source": [
        "<a href=\"https://colab.research.google.com/github/Nivoter/ML/blob/main/PR0.ipynb\" target=\"_parent\"><img src=\"https://colab.research.google.com/assets/colab-badge.svg\" alt=\"Open In Colab\"/></a>"
      ]
    },
    {
      "cell_type": "code",
      "metadata": {
        "id": "lC6jsmrt-CCN"
      },
      "source": [
        "print(\"Hello world!\")"
      ],
      "execution_count": null,
      "outputs": []
    },
    {
      "cell_type": "code",
      "metadata": {
        "id": "xK2FyOSL_biI"
      },
      "source": [
        "!pip install numpy==1.18.5\n",
        "import numpy as np\n"
      ],
      "execution_count": null,
      "outputs": []
    },
    {
      "cell_type": "code",
      "metadata": {
        "id": "yBWGiyOSBGbH"
      },
      "source": [
        "#Задание 1\n",
        "#Выведите справку по команде numpy.linspace() в ячейке ниже.\n",
        "np.linspace?"
      ],
      "execution_count": 21,
      "outputs": []
    },
    {
      "cell_type": "code",
      "metadata": {
        "id": "1iJN-QwLBnZ9",
        "outputId": "8913670c-82de-4d1f-b161-6bd36b62d03b",
        "colab": {
          "base_uri": "https://localhost:8080/",
          "height": 34
        }
      },
      "source": [
        "#Задание 2\n",
        "#1. Посмотрите, что будет, если записать по индексу [1] любое значение.\n",
        "var_list = [1, '111']\n",
        "var_list[1] = '999'\n",
        "var_list\n",
        "#Вывод - изменилось значение в ячейке с индексом 1"
      ],
      "execution_count": 43,
      "outputs": [
        {
          "output_type": "execute_result",
          "data": {
            "text/plain": [
              "[1, '999']"
            ]
          },
          "metadata": {
            "tags": []
          },
          "execution_count": 43
        }
      ]
    },
    {
      "cell_type": "code",
      "metadata": {
        "id": "fv5p0v6wCnOI"
      },
      "source": [
        "#2. Теперь проверьте, что же будет, если вызвать index() по значению, которого нет?\n",
        "var_list.index(10)\n",
        "#Вывод - выводится ошибка ValueError"
      ],
      "execution_count": null,
      "outputs": []
    },
    {
      "cell_type": "code",
      "metadata": {
        "id": "c0YvkVkECtw4",
        "outputId": "0f29df74-13cc-48b1-9d05-550e37e91a08",
        "colab": {
          "base_uri": "https://localhost:8080/",
          "height": 34
        }
      },
      "source": [
        "#3. Воспользуйтесь функцией append() списка, чтобы добавить элемент в список и выведите весь список.\n",
        "var_list.append(5)\n",
        "var_list\n",
        "#Вывод - элемент, использованный в функции append становится последним жлементом списка\n"
      ],
      "execution_count": 44,
      "outputs": [
        {
          "output_type": "execute_result",
          "data": {
            "text/plain": [
              "[1, '999', 5]"
            ]
          },
          "metadata": {
            "tags": []
          },
          "execution_count": 44
        }
      ]
    },
    {
      "cell_type": "code",
      "metadata": {
        "id": "Vpxj6FVsFXkh"
      },
      "source": [
        "#Задание 3\n",
        "#Попробовать изменить элемент [1] кортежа\n",
        "var_tuple = (1, '111', 'hey')\n",
        "var_tuple[1] = 1\n",
        "var_tuple\n",
        "#Вывод - элементы котрежа нельзя изменить\n"
      ],
      "execution_count": null,
      "outputs": []
    },
    {
      "cell_type": "code",
      "metadata": {
        "id": "g8g4Z_mYGAFE",
        "outputId": "0e363ad3-531f-40b2-c334-c2d78e2445d7",
        "colab": {
          "base_uri": "https://localhost:8080/",
          "height": 34
        }
      },
      "source": [
        "#Задание 4\n",
        "var_dict = {\n",
        "    'string_key': 'string_value',\n",
        "    1: 'oh, integer key?'\n",
        "}\n",
        "var_dict['new_key'] = 'new_value'\n",
        "var_dict['new_key']\n",
        "var_dict\n"
      ],
      "execution_count": 71,
      "outputs": [
        {
          "output_type": "execute_result",
          "data": {
            "text/plain": [
              "{1: 'oh, integer key?', 'new_key': 'new_value', 'string_key': 'string_value'}"
            ]
          },
          "metadata": {
            "tags": []
          },
          "execution_count": 71
        }
      ]
    },
    {
      "cell_type": "code",
      "metadata": {
        "id": "I5lq4emFHVzK",
        "outputId": "535dd02e-b081-490b-fc33-b25920265fee",
        "colab": {
          "base_uri": "https://localhost:8080/",
          "height": 35
        }
      },
      "source": [
        "#Попробуйте создать новый словарь new_dict с другими парами ключ-значение\n",
        "new_dict = {\n",
        "    'ML': 'nice',\n",
        "    'not_ML': 'not_nice'\n",
        "}\n",
        "new_dict['ML']"
      ],
      "execution_count": 67,
      "outputs": [
        {
          "output_type": "execute_result",
          "data": {
            "application/vnd.google.colaboratory.intrinsic+json": {
              "type": "string"
            },
            "text/plain": [
              "'nice'"
            ]
          },
          "metadata": {
            "tags": []
          },
          "execution_count": 67
        }
      ]
    },
    {
      "cell_type": "code",
      "metadata": {
        "id": "wKuNEyacH-fh",
        "outputId": "419adee9-136c-4ade-9c9d-697dee90eea6",
        "colab": {
          "base_uri": "https://localhost:8080/",
          "height": 101
        }
      },
      "source": [
        "#воспользуйтесь функцией var_dict.update(new_dict)(мы передаем новый словарь как аргумент функции). \n",
        "#Посмотрите, что поменялось в обоих словарях.\n",
        "var_dict.update(new_dict)\n",
        "var_dict"
      ],
      "execution_count": 72,
      "outputs": [
        {
          "output_type": "execute_result",
          "data": {
            "text/plain": [
              "{1: 'oh, integer key?',\n",
              " 'ML': 'nice',\n",
              " 'new_key': 'new_value',\n",
              " 'not_ML': 'not_nice',\n",
              " 'string_key': 'string_value'}"
            ]
          },
          "metadata": {
            "tags": []
          },
          "execution_count": 72
        }
      ]
    },
    {
      "cell_type": "code",
      "metadata": {
        "id": "BgRsMf6NIMma",
        "outputId": "1bf23959-3deb-4fec-fb63-c780710ede28",
        "colab": {
          "base_uri": "https://localhost:8080/",
          "height": 34
        }
      },
      "source": [
        "new_dict\n",
        "#Вывод - функцией update можно добавить словарь в словарь, при этом добавленный словарь не изменяется"
      ],
      "execution_count": 70,
      "outputs": [
        {
          "output_type": "execute_result",
          "data": {
            "text/plain": [
              "{'ML': 'nice', 'not_ML': 'not_nice'}"
            ]
          },
          "metadata": {
            "tags": []
          },
          "execution_count": 70
        }
      ]
    },
    {
      "cell_type": "code",
      "metadata": {
        "id": "UYHMVmaaIu5e",
        "outputId": "a2c1275d-62a7-4bee-9436-fcd37b6f18d8",
        "colab": {
          "base_uri": "https://localhost:8080/",
          "height": 34
        }
      },
      "source": [
        "#Задание 5\n",
        "#Создайте свое множество new_set и с помощью операторов \"|\" и \"&\" получите объединение \n",
        "#и пересечение множеств. Выведите результаты.\n",
        "var_set = {\n",
        "    'no, keys',\n",
        "    'only unique values!'\n",
        "}\n",
        "new_set = {\n",
        "    'ML',\n",
        "    'more_ML',\n",
        "    'no, keys'\n",
        "}\n",
        "new_set"
      ],
      "execution_count": 78,
      "outputs": [
        {
          "output_type": "execute_result",
          "data": {
            "text/plain": [
              "{'ML', 'more_ML', 'no, keys'}"
            ]
          },
          "metadata": {
            "tags": []
          },
          "execution_count": 78
        }
      ]
    },
    {
      "cell_type": "code",
      "metadata": {
        "id": "b7lPquG6JRmc",
        "outputId": "d1c5f525-7a2a-48d2-d809-28f6bf89c5d0",
        "colab": {
          "base_uri": "https://localhost:8080/",
          "height": 34
        }
      },
      "source": [
        "new_set|var_set"
      ],
      "execution_count": 79,
      "outputs": [
        {
          "output_type": "execute_result",
          "data": {
            "text/plain": [
              "{'ML', 'more_ML', 'no, keys', 'only unique values!'}"
            ]
          },
          "metadata": {
            "tags": []
          },
          "execution_count": 79
        }
      ]
    },
    {
      "cell_type": "code",
      "metadata": {
        "id": "vqZLwrg7JVqg",
        "outputId": "3269e697-c4e0-420d-e205-4f822e17477e",
        "colab": {
          "base_uri": "https://localhost:8080/",
          "height": 34
        }
      },
      "source": [
        "new_set&var_set"
      ],
      "execution_count": 80,
      "outputs": [
        {
          "output_type": "execute_result",
          "data": {
            "text/plain": [
              "{'no, keys'}"
            ]
          },
          "metadata": {
            "tags": []
          },
          "execution_count": 80
        }
      ]
    },
    {
      "cell_type": "code",
      "metadata": {
        "id": "wNfpK65PJ2Ra",
        "outputId": "3fc7adb9-ea2e-48d6-a566-59c3815706c8",
        "colab": {
          "base_uri": "https://localhost:8080/",
          "height": 118
        }
      },
      "source": [
        "#Задание 6\n",
        "#Создайте свой список и выполните проход по нему с помощью цикла for.\n",
        "iter = 0\n",
        "newnew_list = [1,2,3,'111','222','333']\n",
        "for iter in newnew_list:\n",
        "    print(iter)"
      ],
      "execution_count": 90,
      "outputs": [
        {
          "output_type": "stream",
          "text": [
            "1\n",
            "2\n",
            "3\n",
            "111\n",
            "222\n",
            "333\n"
          ],
          "name": "stdout"
        }
      ]
    },
    {
      "cell_type": "code",
      "metadata": {
        "id": "i9ycKPjkK6yr",
        "outputId": "4dac005e-5c07-44ff-f730-d0445e962a3b",
        "colab": {
          "base_uri": "https://localhost:8080/",
          "height": 34
        }
      },
      "source": [
        "#Задание 7\n",
        "#Напишите функцию для вычисления периметра прямоугольника. \n",
        "#В качестве аргументов передайте стороны прямоугольника.\n",
        "def perimetr(a,b,c,d):\n",
        "  return a + b + c + d\n",
        "result = perimetr(10.5,20,4,5)\n",
        "result"
      ],
      "execution_count": 98,
      "outputs": [
        {
          "output_type": "execute_result",
          "data": {
            "text/plain": [
              "39.5"
            ]
          },
          "metadata": {
            "tags": []
          },
          "execution_count": 98
        }
      ]
    },
    {
      "cell_type": "markdown",
      "metadata": {
        "id": "oi1w4X5GNQMC"
      },
      "source": [
        "Задание 8\n",
        "\n",
        "Напишите класс без конструктора  с методом, который на вход принимает число x и производит вычисления по формуле: $2*e^{x}$\n",
        "\n",
        "Для вычисления степени экспоненты воспользуйтесь функцией exp() модуля math (не забудьте подключить его, устаналивать не требуется).\n",
        "\n",
        "Выведите в цикле значения метода при целочисленных аргументах от 4 до 12 с использованием новой функции."
      ]
    },
    {
      "cell_type": "code",
      "metadata": {
        "id": "MKRp5SB3NTU9"
      },
      "source": [
        "import math as mt"
      ],
      "execution_count": 103,
      "outputs": []
    },
    {
      "cell_type": "code",
      "metadata": {
        "id": "scJzW5Q4Nd2j"
      },
      "source": [
        "class expClass:\n",
        "  def make_2_e_Power_x(x):\n",
        "    return 2*mt.exp(x)\n"
      ],
      "execution_count": 107,
      "outputs": []
    },
    {
      "cell_type": "code",
      "metadata": {
        "id": "TY6TvWPpODHJ",
        "outputId": "3dccc4f0-8b5a-492a-967d-76ace42eb30f",
        "colab": {
          "base_uri": "https://localhost:8080/",
          "height": 151
        }
      },
      "source": [
        "myClass = expClass\n",
        "iter = 0\n",
        "for iter in range(4,12):\n",
        "  print(myClass.make_2_e_Power_x(iter))"
      ],
      "execution_count": 116,
      "outputs": [
        {
          "output_type": "stream",
          "text": [
            "109.19630006628847\n",
            "296.8263182051532\n",
            "806.8575869854702\n",
            "2193.266316856917\n",
            "5961.915974083457\n",
            "16206.167855150768\n",
            "44052.931589613436\n",
            "119748.28343039563\n"
          ],
          "name": "stdout"
        }
      ]
    },
    {
      "cell_type": "markdown",
      "metadata": {
        "id": "lQMIwgBNPYb7"
      },
      "source": [
        "Задание 9\n",
        "\n",
        "Напишите функцию, которая принимает имя, возраст и среднюю оценку в качестве аргументов и отображает данные тремя способами, рассмотренными ранее, в виде строк.\n",
        "\n",
        "Добрый день! Мое имя: 'name', возраст: 'age', оценка: 'avg_grade'. Приятно познакомиться!\n",
        "\n",
        "Средняя оценка должна отображаться не более, чем с двумя символами после запятой."
      ]
    },
    {
      "cell_type": "code",
      "metadata": {
        "id": "GbS663NbPgby",
        "outputId": "a6f829b7-fa2a-415a-d0db-4a2f7ab4a069",
        "colab": {
          "base_uri": "https://localhost:8080/",
          "height": 67
        }
      },
      "source": [
        "def show_info(name, age, avg_grade):\n",
        "    pass\n",
        "    temp_string = 'Добрый день! Мое имя %s, возраст %d, оценка %.2f. Приятно познакомится!'\n",
        "    new_string = temp_string % (name,age,avg_grade)\n",
        "    print(new_string)\n",
        "    print('Добрый день! Мое имя %s, возраст %d, оценка %.2f. Приятно познакомится!' % (name,age,avg_grade))\n",
        "    print('Добрый день! Мое имя {}, возраст {}, оценка {:.2f}. Приятно познакомится!'.format(name,age,avg_grade))\n",
        "\n",
        "show_info('Kolya',22,4.512312312313)\n"
      ],
      "execution_count": 120,
      "outputs": [
        {
          "output_type": "stream",
          "text": [
            "Добрый день! Мое имя Kolya, возраст 22, оценка 4.51. Приятно познакомится!\n",
            "Добрый день! Мое имя Kolya, возраст 22, оценка 4.51. Приятно познакомится!\n",
            "Добрый день! Мое имя Kolya, возраст 22, оценка 4.51. Приятно познакомится!\n"
          ],
          "name": "stdout"
        }
      ]
    }
  ]
}