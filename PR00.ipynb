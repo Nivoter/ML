{
  "nbformat": 4,
  "nbformat_minor": 0,
  "metadata": {
    "colab": {
      "name": "Untitled0.ipynb",
      "provenance": [],
      "collapsed_sections": [],
      "authorship_tag": "ABX9TyMWRoBsOsMdqsM1YbS+tQ8I",
      "include_colab_link": true
    },
    "kernelspec": {
      "name": "python3",
      "display_name": "Python 3"
    }
  },
  "cells": [
    {
      "cell_type": "markdown",
      "metadata": {
        "id": "view-in-github",
        "colab_type": "text"
      },
      "source": [
        "<a href=\"https://colab.research.google.com/github/Nivoter/ML/blob/main/PR00.ipynb\" target=\"_parent\"><img src=\"https://colab.research.google.com/assets/colab-badge.svg\" alt=\"Open In Colab\"/></a>"
      ]
    },
    {
      "cell_type": "code",
      "metadata": {
        "id": "lC6jsmrt-CCN",
        "outputId": "d4cf3028-5dda-4eee-f6c5-8c0e6fe3310d",
        "colab": {
          "base_uri": "https://localhost:8080/",
          "height": 34
        }
      },
      "source": [
        "print(\"Hello world!\")"
      ],
      "execution_count": 2,
      "outputs": [
        {
          "output_type": "stream",
          "text": [
            "Hello world!\n"
          ],
          "name": "stdout"
        }
      ]
    },
    {
      "cell_type": "code",
      "metadata": {
        "id": "xK2FyOSL_biI",
        "outputId": "37f26963-440e-44f9-985d-d6ae94188573",
        "colab": {
          "base_uri": "https://localhost:8080/",
          "height": 34
        }
      },
      "source": [
        "!pip install numpy==1.18.5\n",
        "import numpy as np\n"
      ],
      "execution_count": 4,
      "outputs": [
        {
          "output_type": "stream",
          "text": [
            "Requirement already satisfied: numpy==1.18.5 in /usr/local/lib/python3.6/dist-packages (1.18.5)\n"
          ],
          "name": "stdout"
        }
      ]
    },
    {
      "cell_type": "code",
      "metadata": {
        "id": "yBWGiyOSBGbH"
      },
      "source": [
        "#Задание 1\n",
        "#Выведите справку по команде numpy.linspace() в ячейке ниже.\n",
        "np.linspace?"
      ],
      "execution_count": 5,
      "outputs": []
    },
    {
      "cell_type": "code",
      "metadata": {
        "id": "1iJN-QwLBnZ9",
        "outputId": "479362a7-2989-4cf0-8a9e-051f477f844e",
        "colab": {
          "base_uri": "https://localhost:8080/",
          "height": 34
        }
      },
      "source": [
        "#Задание 2\n",
        "#1. Посмотрите, что будет, если записать по индексу [1] любое значение.\n",
        "var_list = [1, '111']\n",
        "var_list[1] = '999'\n",
        "var_list\n",
        "#Вывод - изменилось значение в ячейке с индексом 1"
      ],
      "execution_count": 6,
      "outputs": [
        {
          "output_type": "execute_result",
          "data": {
            "text/plain": [
              "[1, '999']"
            ]
          },
          "metadata": {
            "tags": []
          },
          "execution_count": 6
        }
      ]
    },
    {
      "cell_type": "code",
      "metadata": {
        "id": "fv5p0v6wCnOI",
        "outputId": "4c004a42-054b-45eb-8419-13508f5f1dfb",
        "colab": {
          "base_uri": "https://localhost:8080/",
          "height": 195
        }
      },
      "source": [
        "#2. Теперь проверьте, что же будет, если вызвать index() по значению, которого нет?\n",
        "var_list.index(10)\n",
        "#Вывод - выводится ошибка ValueError"
      ],
      "execution_count": 7,
      "outputs": [
        {
          "output_type": "error",
          "ename": "ValueError",
          "evalue": "ignored",
          "traceback": [
            "\u001b[0;31m---------------------------------------------------------------------------\u001b[0m",
            "\u001b[0;31mValueError\u001b[0m                                Traceback (most recent call last)",
            "\u001b[0;32m<ipython-input-7-dd3a6645b5df>\u001b[0m in \u001b[0;36m<module>\u001b[0;34m()\u001b[0m\n\u001b[1;32m      1\u001b[0m \u001b[0;31m#2. Теперь проверьте, что же будет, если вызвать index() по значению, которого нет?\u001b[0m\u001b[0;34m\u001b[0m\u001b[0;34m\u001b[0m\u001b[0;34m\u001b[0m\u001b[0m\n\u001b[0;32m----> 2\u001b[0;31m \u001b[0mvar_list\u001b[0m\u001b[0;34m.\u001b[0m\u001b[0mindex\u001b[0m\u001b[0;34m(\u001b[0m\u001b[0;36m10\u001b[0m\u001b[0;34m)\u001b[0m\u001b[0;34m\u001b[0m\u001b[0;34m\u001b[0m\u001b[0m\n\u001b[0m\u001b[1;32m      3\u001b[0m \u001b[0;31m#Вывод - выводится ошибка ValueError\u001b[0m\u001b[0;34m\u001b[0m\u001b[0;34m\u001b[0m\u001b[0;34m\u001b[0m\u001b[0m\n",
            "\u001b[0;31mValueError\u001b[0m: 10 is not in list"
          ]
        }
      ]
    },
    {
      "cell_type": "code",
      "metadata": {
        "id": "c0YvkVkECtw4",
        "outputId": "d424c8aa-f2b3-4728-8d31-3ebed4b10b16",
        "colab": {
          "base_uri": "https://localhost:8080/",
          "height": 34
        }
      },
      "source": [
        "#3. Воспользуйтесь функцией append() списка, чтобы добавить элемент в список и выведите весь список.\n",
        "var_list.append(5)\n",
        "var_list\n",
        "#Вывод - элемент, использованный в функции append становится последним жлементом списка\n"
      ],
      "execution_count": 8,
      "outputs": [
        {
          "output_type": "execute_result",
          "data": {
            "text/plain": [
              "[1, '999', 5]"
            ]
          },
          "metadata": {
            "tags": []
          },
          "execution_count": 8
        }
      ]
    },
    {
      "cell_type": "code",
      "metadata": {
        "id": "Vpxj6FVsFXkh",
        "outputId": "87dcbfd0-3b73-4f39-c222-1b386a18b81d",
        "colab": {
          "base_uri": "https://localhost:8080/",
          "height": 229
        }
      },
      "source": [
        "#Задание 3\n",
        "#Попробовать изменить элемент [1] кортежа\n",
        "var_tuple = (1, '111', 'hey')\n",
        "var_tuple[1] = 1\n",
        "var_tuple\n",
        "#Вывод - элементы котрежа нельзя изменить\n"
      ],
      "execution_count": 9,
      "outputs": [
        {
          "output_type": "error",
          "ename": "TypeError",
          "evalue": "ignored",
          "traceback": [
            "\u001b[0;31m---------------------------------------------------------------------------\u001b[0m",
            "\u001b[0;31mTypeError\u001b[0m                                 Traceback (most recent call last)",
            "\u001b[0;32m<ipython-input-9-c4cf7182a2c2>\u001b[0m in \u001b[0;36m<module>\u001b[0;34m()\u001b[0m\n\u001b[1;32m      2\u001b[0m \u001b[0;31m#Попробовать изменить элемент [1] кортежа\u001b[0m\u001b[0;34m\u001b[0m\u001b[0;34m\u001b[0m\u001b[0;34m\u001b[0m\u001b[0m\n\u001b[1;32m      3\u001b[0m \u001b[0mvar_tuple\u001b[0m \u001b[0;34m=\u001b[0m \u001b[0;34m(\u001b[0m\u001b[0;36m1\u001b[0m\u001b[0;34m,\u001b[0m \u001b[0;34m'111'\u001b[0m\u001b[0;34m,\u001b[0m \u001b[0;34m'hey'\u001b[0m\u001b[0;34m)\u001b[0m\u001b[0;34m\u001b[0m\u001b[0;34m\u001b[0m\u001b[0m\n\u001b[0;32m----> 4\u001b[0;31m \u001b[0mvar_tuple\u001b[0m\u001b[0;34m[\u001b[0m\u001b[0;36m1\u001b[0m\u001b[0;34m]\u001b[0m \u001b[0;34m=\u001b[0m \u001b[0;36m1\u001b[0m\u001b[0;34m\u001b[0m\u001b[0;34m\u001b[0m\u001b[0m\n\u001b[0m\u001b[1;32m      5\u001b[0m \u001b[0mvar_tuple\u001b[0m\u001b[0;34m\u001b[0m\u001b[0;34m\u001b[0m\u001b[0m\n\u001b[1;32m      6\u001b[0m \u001b[0;31m#Вывод - элементы котрежа нельзя изменить\u001b[0m\u001b[0;34m\u001b[0m\u001b[0;34m\u001b[0m\u001b[0;34m\u001b[0m\u001b[0m\n",
            "\u001b[0;31mTypeError\u001b[0m: 'tuple' object does not support item assignment"
          ]
        }
      ]
    },
    {
      "cell_type": "code",
      "metadata": {
        "id": "g8g4Z_mYGAFE",
        "outputId": "896b3230-c284-40a7-92a2-fbe26814b8fe",
        "colab": {
          "base_uri": "https://localhost:8080/",
          "height": 34
        }
      },
      "source": [
        "#Задание 4\n",
        "var_dict = {\n",
        "    'string_key': 'string_value',\n",
        "    1: 'oh, integer key?'\n",
        "}\n",
        "var_dict['new_key'] = 'new_value'\n",
        "var_dict['new_key']\n",
        "var_dict\n"
      ],
      "execution_count": 10,
      "outputs": [
        {
          "output_type": "execute_result",
          "data": {
            "text/plain": [
              "{1: 'oh, integer key?', 'new_key': 'new_value', 'string_key': 'string_value'}"
            ]
          },
          "metadata": {
            "tags": []
          },
          "execution_count": 10
        }
      ]
    },
    {
      "cell_type": "code",
      "metadata": {
        "id": "I5lq4emFHVzK",
        "outputId": "ddf192e9-8ad4-46d5-c22a-4c04da60d9b1",
        "colab": {
          "base_uri": "https://localhost:8080/",
          "height": 35
        }
      },
      "source": [
        "#Попробуйте создать новый словарь new_dict с другими парами ключ-значение\n",
        "new_dict = {\n",
        "    'ML': 'nice',\n",
        "    'not_ML': 'not_nice'\n",
        "}\n",
        "new_dict['ML']"
      ],
      "execution_count": 11,
      "outputs": [
        {
          "output_type": "execute_result",
          "data": {
            "application/vnd.google.colaboratory.intrinsic+json": {
              "type": "string"
            },
            "text/plain": [
              "'nice'"
            ]
          },
          "metadata": {
            "tags": []
          },
          "execution_count": 11
        }
      ]
    },
    {
      "cell_type": "code",
      "metadata": {
        "id": "wKuNEyacH-fh",
        "outputId": "c75eab42-83d0-484a-c46c-d81e941ba389",
        "colab": {
          "base_uri": "https://localhost:8080/",
          "height": 101
        }
      },
      "source": [
        "#воспользуйтесь функцией var_dict.update(new_dict)(мы передаем новый словарь как аргумент функции). \n",
        "#Посмотрите, что поменялось в обоих словарях.\n",
        "var_dict.update(new_dict)\n",
        "var_dict"
      ],
      "execution_count": 12,
      "outputs": [
        {
          "output_type": "execute_result",
          "data": {
            "text/plain": [
              "{1: 'oh, integer key?',\n",
              " 'ML': 'nice',\n",
              " 'new_key': 'new_value',\n",
              " 'not_ML': 'not_nice',\n",
              " 'string_key': 'string_value'}"
            ]
          },
          "metadata": {
            "tags": []
          },
          "execution_count": 12
        }
      ]
    },
    {
      "cell_type": "code",
      "metadata": {
        "id": "BgRsMf6NIMma",
        "outputId": "0dc34e25-72de-480f-97cc-6a568687ee99",
        "colab": {
          "base_uri": "https://localhost:8080/",
          "height": 34
        }
      },
      "source": [
        "new_dict\n",
        "#Вывод - функцией update можно добавить словарь в словарь, при этом добавленный словарь не изменяется"
      ],
      "execution_count": 13,
      "outputs": [
        {
          "output_type": "execute_result",
          "data": {
            "text/plain": [
              "{'ML': 'nice', 'not_ML': 'not_nice'}"
            ]
          },
          "metadata": {
            "tags": []
          },
          "execution_count": 13
        }
      ]
    },
    {
      "cell_type": "code",
      "metadata": {
        "id": "UYHMVmaaIu5e",
        "outputId": "a7430f37-df41-44c4-934e-f30887593169",
        "colab": {
          "base_uri": "https://localhost:8080/",
          "height": 34
        }
      },
      "source": [
        "#Задание 5\n",
        "#Создайте свое множество new_set и с помощью операторов \"|\" и \"&\" получите объединение \n",
        "#и пересечение множеств. Выведите результаты.\n",
        "var_set = {\n",
        "    'no, keys',\n",
        "    'only unique values!'\n",
        "}\n",
        "new_set = {\n",
        "    'ML',\n",
        "    'more_ML',\n",
        "    'no, keys'\n",
        "}\n",
        "new_set"
      ],
      "execution_count": 14,
      "outputs": [
        {
          "output_type": "execute_result",
          "data": {
            "text/plain": [
              "{'ML', 'more_ML', 'no, keys'}"
            ]
          },
          "metadata": {
            "tags": []
          },
          "execution_count": 14
        }
      ]
    },
    {
      "cell_type": "code",
      "metadata": {
        "id": "b7lPquG6JRmc",
        "outputId": "55625912-90a7-4e83-b378-3319aac7acfa",
        "colab": {
          "base_uri": "https://localhost:8080/",
          "height": 34
        }
      },
      "source": [
        "new_set|var_set"
      ],
      "execution_count": 15,
      "outputs": [
        {
          "output_type": "execute_result",
          "data": {
            "text/plain": [
              "{'ML', 'more_ML', 'no, keys', 'only unique values!'}"
            ]
          },
          "metadata": {
            "tags": []
          },
          "execution_count": 15
        }
      ]
    },
    {
      "cell_type": "code",
      "metadata": {
        "id": "vqZLwrg7JVqg",
        "outputId": "202f1ec3-6b7c-42a6-fe25-530787f69beb",
        "colab": {
          "base_uri": "https://localhost:8080/",
          "height": 34
        }
      },
      "source": [
        "new_set&var_set"
      ],
      "execution_count": 16,
      "outputs": [
        {
          "output_type": "execute_result",
          "data": {
            "text/plain": [
              "{'no, keys'}"
            ]
          },
          "metadata": {
            "tags": []
          },
          "execution_count": 16
        }
      ]
    },
    {
      "cell_type": "code",
      "metadata": {
        "id": "wNfpK65PJ2Ra",
        "outputId": "c46bc226-ce41-4f23-8894-a32472c1a65c",
        "colab": {
          "base_uri": "https://localhost:8080/",
          "height": 118
        }
      },
      "source": [
        "#Задание 6\n",
        "#Создайте свой список и выполните проход по нему с помощью цикла for.\n",
        "iter = 0\n",
        "newnew_list = [1,2,3,'111','222','333']\n",
        "for iter in newnew_list:\n",
        "    print(iter)"
      ],
      "execution_count": 17,
      "outputs": [
        {
          "output_type": "stream",
          "text": [
            "1\n",
            "2\n",
            "3\n",
            "111\n",
            "222\n",
            "333\n"
          ],
          "name": "stdout"
        }
      ]
    },
    {
      "cell_type": "code",
      "metadata": {
        "id": "i9ycKPjkK6yr",
        "outputId": "52f523c6-a3a1-4f3a-d520-6d36dae75e62",
        "colab": {
          "base_uri": "https://localhost:8080/",
          "height": 34
        }
      },
      "source": [
        "#Задание 7\n",
        "#Напишите функцию для вычисления периметра прямоугольника. \n",
        "#В качестве аргументов передайте стороны прямоугольника.\n",
        "def perimetr(a,b,c,d):\n",
        "  return a + b + c + d\n",
        "result = perimetr(10.5,20,4,5)\n",
        "result"
      ],
      "execution_count": 18,
      "outputs": [
        {
          "output_type": "execute_result",
          "data": {
            "text/plain": [
              "39.5"
            ]
          },
          "metadata": {
            "tags": []
          },
          "execution_count": 18
        }
      ]
    },
    {
      "cell_type": "markdown",
      "metadata": {
        "id": "oi1w4X5GNQMC"
      },
      "source": [
        "Задание 8\n",
        "\n",
        "Напишите класс без конструктора  с методом, который на вход принимает число x и производит вычисления по формуле: $2*e^{x}$\n",
        "\n",
        "Для вычисления степени экспоненты воспользуйтесь функцией exp() модуля math (не забудьте подключить его, устаналивать не требуется).\n",
        "\n",
        "Выведите в цикле значения метода при целочисленных аргументах от 4 до 12 с использованием новой функции."
      ]
    },
    {
      "cell_type": "code",
      "metadata": {
        "id": "MKRp5SB3NTU9"
      },
      "source": [
        "import math as mt"
      ],
      "execution_count": 19,
      "outputs": []
    },
    {
      "cell_type": "code",
      "metadata": {
        "id": "scJzW5Q4Nd2j"
      },
      "source": [
        "class expClass:\n",
        "  def make_2_e_Power_x(x):\n",
        "    return 2*mt.exp(x)\n"
      ],
      "execution_count": 20,
      "outputs": []
    },
    {
      "cell_type": "code",
      "metadata": {
        "id": "TY6TvWPpODHJ",
        "outputId": "3d22e690-0670-4111-e586-e2570fbcdc5e",
        "colab": {
          "base_uri": "https://localhost:8080/",
          "height": 151
        }
      },
      "source": [
        "myClass = expClass\n",
        "iter = 0\n",
        "for iter in range(4,12):\n",
        "  print(myClass.make_2_e_Power_x(iter))"
      ],
      "execution_count": 21,
      "outputs": [
        {
          "output_type": "stream",
          "text": [
            "109.19630006628847\n",
            "296.8263182051532\n",
            "806.8575869854702\n",
            "2193.266316856917\n",
            "5961.915974083457\n",
            "16206.167855150768\n",
            "44052.931589613436\n",
            "119748.28343039563\n"
          ],
          "name": "stdout"
        }
      ]
    },
    {
      "cell_type": "markdown",
      "metadata": {
        "id": "lQMIwgBNPYb7"
      },
      "source": [
        "Задание 9\n",
        "\n",
        "Напишите функцию, которая принимает имя, возраст и среднюю оценку в качестве аргументов и отображает данные тремя способами, рассмотренными ранее, в виде строк.\n",
        "\n",
        "Добрый день! Мое имя: 'name', возраст: 'age', оценка: 'avg_grade'. Приятно познакомиться!\n",
        "\n",
        "Средняя оценка должна отображаться не более, чем с двумя символами после запятой."
      ]
    },
    {
      "cell_type": "code",
      "metadata": {
        "id": "GbS663NbPgby",
        "outputId": "34cdfef2-37db-49e5-e907-66389223f0a3",
        "colab": {
          "base_uri": "https://localhost:8080/",
          "height": 67
        }
      },
      "source": [
        "def show_info(name, age, avg_grade):\n",
        "    pass\n",
        "    temp_string = 'Добрый день! Мое имя %s, возраст %d, оценка %.2f. Приятно познакомится!'\n",
        "    new_string = temp_string % (name,age,avg_grade)\n",
        "    print(new_string)\n",
        "    print('Добрый день! Мое имя %s, возраст %d, оценка %.2f. Приятно познакомится!' % (name,age,avg_grade))\n",
        "    print('Добрый день! Мое имя {}, возраст {}, оценка {:.2f}. Приятно познакомится!'.format(name,age,avg_grade))\n",
        "\n",
        "show_info('Kolya',22,4.512312312313)\n"
      ],
      "execution_count": 22,
      "outputs": [
        {
          "output_type": "stream",
          "text": [
            "Добрый день! Мое имя Kolya, возраст 22, оценка 4.51. Приятно познакомится!\n",
            "Добрый день! Мое имя Kolya, возраст 22, оценка 4.51. Приятно познакомится!\n",
            "Добрый день! Мое имя Kolya, возраст 22, оценка 4.51. Приятно познакомится!\n"
          ],
          "name": "stdout"
        }
      ]
    }
  ]
}