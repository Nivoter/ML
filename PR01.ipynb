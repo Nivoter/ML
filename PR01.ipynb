{
  "nbformat": 4,
  "nbformat_minor": 0,
  "metadata": {
    "colab": {
      "name": "Untitled2.ipynb",
      "provenance": [],
      "authorship_tag": "ABX9TyP08ztPYoI4zCv9rTV4fPDP",
      "include_colab_link": true
    },
    "kernelspec": {
      "name": "python3",
      "display_name": "Python 3"
    }
  },
  "cells": [
    {
      "cell_type": "markdown",
      "metadata": {
        "id": "view-in-github",
        "colab_type": "text"
      },
      "source": [
        "<a href=\"https://colab.research.google.com/github/Nivoter/ML/blob/main/PR01.ipynb\" target=\"_parent\"><img src=\"https://colab.research.google.com/assets/colab-badge.svg\" alt=\"Open In Colab\"/></a>"
      ]
    },
    {
      "cell_type": "code",
      "metadata": {
        "id": "164p9qqs6UY8"
      },
      "source": [
        "import numpy as np"
      ],
      "execution_count": 2,
      "outputs": []
    },
    {
      "cell_type": "code",
      "metadata": {
        "id": "I-CIzBtrBCNN",
        "outputId": "c1b05a9d-529e-4466-8f21-b32ef21efcb9",
        "colab": {
          "base_uri": "https://localhost:8080/",
          "height": 34
        }
      },
      "source": [
        "arr = [1, 2, 3, 4, 5, 6, 7, 8, 9, 10]\n",
        "arr\n"
      ],
      "execution_count": 8,
      "outputs": [
        {
          "output_type": "execute_result",
          "data": {
            "text/plain": [
              "[1, 2, 3, 4, 5, 6, 7, 8, 9, 10]"
            ]
          },
          "metadata": {
            "tags": []
          },
          "execution_count": 8
        }
      ]
    },
    {
      "cell_type": "markdown",
      "metadata": {
        "id": "Jam7W8DpBbqf"
      },
      "source": [
        "Задание 1\n",
        "\n",
        "Объясните результат операции:"
      ]
    },
    {
      "cell_type": "code",
      "metadata": {
        "id": "ZTj0YfpxBeMO",
        "outputId": "faf4ccff-4da4-424b-e744-efb53b19c3c9",
        "colab": {
          "base_uri": "https://localhost:8080/",
          "height": 34
        }
      },
      "source": [
        "print(arr[:5:-2])"
      ],
      "execution_count": 17,
      "outputs": [
        {
          "output_type": "stream",
          "text": [
            "[10, 8]\n"
          ],
          "name": "stdout"
        }
      ]
    },
    {
      "cell_type": "markdown",
      "metadata": {
        "id": "BS2v4d1OB3IX"
      },
      "source": [
        "Если задан отрицательный шаг, то index_start и index_end меняются местами, следовательно выполнена следующая запись [index_end:index_start:-2] \n",
        "\n",
        "Также, в случае незаданного index_end он равняется индексу конца массива\n",
        "\n",
        "Поэтому эта команда и вывела элементы с конца до 5 с шагом 2\n"
      ]
    },
    {
      "cell_type": "markdown",
      "metadata": {
        "id": "wZVBqIX2DKx7"
      },
      "source": [
        "Задание 2\n",
        "\n",
        "Получите перевернутый список:\n",
        "\n",
        "[9, 8, 7, 6, 5, 4, 3, 2, 1, 0]"
      ]
    },
    {
      "cell_type": "code",
      "metadata": {
        "id": "_G91cxHJCS2Q",
        "outputId": "0ace1fb6-a0f6-4e28-af16-c3585d34b34b",
        "colab": {
          "base_uri": "https://localhost:8080/",
          "height": 50
        }
      },
      "source": [
        "data = list(range(10))\n",
        "print(data)\n",
        "\n",
        "# TODO - [9, 8, 7, 6, 5, 4, 3, 2, 1, 0]\n",
        "print(data[::-1])"
      ],
      "execution_count": 19,
      "outputs": [
        {
          "output_type": "stream",
          "text": [
            "[0, 1, 2, 3, 4, 5, 6, 7, 8, 9]\n",
            "[9, 8, 7, 6, 5, 4, 3, 2, 1, 0]\n"
          ],
          "name": "stdout"
        }
      ]
    },
    {
      "cell_type": "markdown",
      "metadata": {
        "id": "yr9eS3irDemg"
      },
      "source": [
        "Задание 3\n",
        "\n",
        "Получите массив без первого и двух последних элементов:"
      ]
    },
    {
      "cell_type": "code",
      "metadata": {
        "id": "sd1C4YovDmFl",
        "outputId": "b1ea289d-f091-4c5a-cd2c-68fb635aa961",
        "colab": {
          "base_uri": "https://localhost:8080/",
          "height": 50
        }
      },
      "source": [
        "data = list(range(10))\n",
        "print(data)\n",
        "\n",
        "# TODO - [1, 2, 3, 4, 5, 6, 7]\n",
        "print(data[1:8])"
      ],
      "execution_count": 20,
      "outputs": [
        {
          "output_type": "stream",
          "text": [
            "[0, 1, 2, 3, 4, 5, 6, 7, 8, 9]\n",
            "[1, 2, 3, 4, 5, 6, 7]\n"
          ],
          "name": "stdout"
        }
      ]
    },
    {
      "cell_type": "markdown",
      "metadata": {
        "id": "_dHtkhZODtlB"
      },
      "source": [
        "\n",
        "Задание 4\n",
        "\n",
        "Получите массив без крайних рядов и колонок (по одной с каждой стороны)"
      ]
    },
    {
      "cell_type": "code",
      "metadata": {
        "id": "icpJCVbiEFfV",
        "outputId": "87dfc894-de08-4ce8-f72c-320b15a2d709",
        "colab": {
          "base_uri": "https://localhost:8080/",
          "height": 185
        }
      },
      "source": [
        "data = np.random.randint(low=0, high=10, size=(5, 6))\n",
        "print(data)\n",
        "print('/////////')\n",
        "print(data[1:5,1:5])\n",
        "# TODO - центральная часть массива размером (4, 5)"
      ],
      "execution_count": 29,
      "outputs": [
        {
          "output_type": "stream",
          "text": [
            "[[2 4 8 1 1 3]\n",
            " [9 1 0 6 1 6]\n",
            " [4 3 4 1 0 1]\n",
            " [8 8 1 5 5 5]\n",
            " [4 9 3 9 4 5]]\n",
            "/////////\n",
            "[[1 0 6 1]\n",
            " [3 4 1 0]\n",
            " [8 1 5 5]\n",
            " [9 3 9 4]]\n"
          ],
          "name": "stdout"
        }
      ]
    },
    {
      "cell_type": "markdown",
      "metadata": {
        "id": "_zg9VocdEtJR"
      },
      "source": [
        "Задание 5\n",
        "\n",
        "Произведите перемешивание колонок с помощью функции numpy.random.permutation():"
      ]
    },
    {
      "cell_type": "code",
      "metadata": {
        "id": "4qkJf05uEvJu",
        "outputId": "2fb66835-2716-482b-b9d1-122e9b2e859b",
        "colab": {
          "base_uri": "https://localhost:8080/",
          "height": 134
        }
      },
      "source": [
        "\n",
        "data = np.random.randint(low=0, high=10, size=(3, 6))\n",
        "print(data)\n",
        "\n",
        "# TODO - такой же массив, но со случайной перестановкой колонок\n",
        "print('/////////')\n",
        "\n",
        "print(data[:,np.random.permutation(6)])"
      ],
      "execution_count": 51,
      "outputs": [
        {
          "output_type": "stream",
          "text": [
            "[[0 4 0 3 7 5]\n",
            " [3 9 7 3 4 3]\n",
            " [2 4 9 9 3 1]]\n",
            "/////////\n",
            "[[5 4 7 3 0 0]\n",
            " [3 9 4 3 7 3]\n",
            " [1 4 3 9 9 2]]\n"
          ],
          "name": "stdout"
        }
      ]
    },
    {
      "cell_type": "markdown",
      "metadata": {
        "id": "w3iZxzcAI7sH"
      },
      "source": [
        "\n",
        "Задание 6\n",
        "\n",
        "Определите, имеется ли хотя бы одно значение больше пяти и меньше восьми в массиве:"
      ]
    },
    {
      "cell_type": "code",
      "metadata": {
        "id": "DvtuKcU8JJF1",
        "outputId": "8c392eff-2822-4799-836a-a47f4c311c3f",
        "colab": {
          "base_uri": "https://localhost:8080/",
          "height": 84
        }
      },
      "source": [
        "arr = np.array([[1, 2, 3, 4], [5, 6, 7, 8], [9, 10, 11, 12]])\n",
        "print(arr)\n",
        "\n",
        "# TODO - определить, имеется ли в массиве хотя бы один элемент, \n",
        "#           отвечающий условию больше пяти и меньше восьми\n",
        "\n",
        "np.any((arr>5)&(arr<8))"
      ],
      "execution_count": 61,
      "outputs": [
        {
          "output_type": "stream",
          "text": [
            "[[ 1  2  3  4]\n",
            " [ 5  6  7  8]\n",
            " [ 9 10 11 12]]\n"
          ],
          "name": "stdout"
        },
        {
          "output_type": "execute_result",
          "data": {
            "text/plain": [
              "True"
            ]
          },
          "metadata": {
            "tags": []
          },
          "execution_count": 61
        }
      ]
    },
    {
      "cell_type": "markdown",
      "metadata": {
        "id": "9TPDaVDsKgZB"
      },
      "source": [
        "Задание 7\n",
        "\n",
        "Напишите операцию получения суммы элементов по всем стобцам:"
      ]
    },
    {
      "cell_type": "code",
      "metadata": {
        "id": "NWj2k0R7KlOW",
        "outputId": "007ea9a2-51ff-4fc7-c2d6-19aa139c583e",
        "colab": {
          "base_uri": "https://localhost:8080/",
          "height": 84
        }
      },
      "source": [
        "\n",
        "data = np.random.randint(low=0, high=5, size=(3, 6))\n",
        "print(data)\n",
        "\n",
        "# TODO - вектор сумм элементов по каждому столбцу\n",
        "data1 = np.sum(data,axis=0)\n",
        "print(data1)"
      ],
      "execution_count": 63,
      "outputs": [
        {
          "output_type": "stream",
          "text": [
            "[[2 0 1 2 4 2]\n",
            " [4 0 3 2 3 1]\n",
            " [1 0 2 2 1 3]]\n",
            "[7 0 6 6 8 6]\n"
          ],
          "name": "stdout"
        }
      ]
    },
    {
      "cell_type": "markdown",
      "metadata": {
        "id": "caFv9eCZK8d2"
      },
      "source": [
        "Задание 8\n",
        "\n",
        "Объедините три массива вдоль колонок:"
      ]
    },
    {
      "cell_type": "code",
      "metadata": {
        "id": "6KBWh5iWLOY_",
        "outputId": "f74a2b3e-6771-43cd-9361-958f13ec93c7",
        "colab": {
          "base_uri": "https://localhost:8080/",
          "height": 168
        }
      },
      "source": [
        "\n",
        "x = np.arange(9).reshape((3, 3))\n",
        "y = np.arange(12).reshape((3, 4))\n",
        "z = np.arange(15).reshape((3, 5))\n",
        "\n",
        "print(x)\n",
        "print(y)\n",
        "print(z)\n",
        "\n",
        "# TODO - получите объединенный массив:\n",
        "# [[ 0  1  2  0  1  2  3  0  1  2  3  4]\n",
        "#  [ 3  4  5  4  5  6  7  5  6  7  8  9]\n",
        "#  [ 6  7  8  8  9 10 11 10 11 12 13 14]]\n"
      ],
      "execution_count": 73,
      "outputs": [
        {
          "output_type": "stream",
          "text": [
            "[[0 1 2]\n",
            " [3 4 5]\n",
            " [6 7 8]]\n",
            "[[ 0  1  2  3]\n",
            " [ 4  5  6  7]\n",
            " [ 8  9 10 11]]\n",
            "[[ 0  1  2  3  4]\n",
            " [ 5  6  7  8  9]\n",
            " [10 11 12 13 14]]\n"
          ],
          "name": "stdout"
        }
      ]
    },
    {
      "cell_type": "code",
      "metadata": {
        "id": "S71kPAWXc4IB",
        "outputId": "3ce60ae6-91d8-4d62-9d03-f60b7bfcf60b",
        "colab": {
          "base_uri": "https://localhost:8080/",
          "height": 67
        }
      },
      "source": [
        "print(np.concatenate((x, y, z), axis=1))"
      ],
      "execution_count": 76,
      "outputs": [
        {
          "output_type": "stream",
          "text": [
            "[[ 0  1  2  0  1  2  3  0  1  2  3  4]\n",
            " [ 3  4  5  4  5  6  7  5  6  7  8  9]\n",
            " [ 6  7  8  8  9 10 11 10 11 12 13 14]]\n"
          ],
          "name": "stdout"
        }
      ]
    },
    {
      "cell_type": "markdown",
      "metadata": {
        "id": "S4oTtysvdo_E"
      },
      "source": [
        "\n",
        "Задание 9\n",
        "\n",
        "Напишите реализацию добавления стобца единиц к матрице слева:"
      ]
    },
    {
      "cell_type": "code",
      "metadata": {
        "id": "WMI-1tuBdtEy",
        "outputId": "9d6e5b47-f8d7-4607-8fda-d0982ae522c9",
        "colab": {
          "base_uri": "https://localhost:8080/",
          "height": 168
        }
      },
      "source": [
        "x = np.arange(1, 10).reshape((3, 3))\n",
        "print(x)\n",
        "\n",
        "# TODO - получить матрицу со столбцом единиц слева\n",
        "# [[1 1 2 3]\n",
        "#  [1 4 5 6]\n",
        "#  [1 7 8 9]]\n",
        "y = np.ones([3,1],dtype = int)\n",
        "print(y)\n",
        "print(np.concatenate((y,x),axis=1))\n"
      ],
      "execution_count": 102,
      "outputs": [
        {
          "output_type": "stream",
          "text": [
            "[[1 2 3]\n",
            " [4 5 6]\n",
            " [7 8 9]]\n",
            "[[1]\n",
            " [1]\n",
            " [1]]\n",
            "[[1 1 2 3]\n",
            " [1 4 5 6]\n",
            " [1 7 8 9]]\n"
          ],
          "name": "stdout"
        }
      ]
    },
    {
      "cell_type": "markdown",
      "metadata": {
        "id": "byXVBfFJiPh7"
      },
      "source": [
        "\n",
        "Задание 10\n",
        "\n",
        "По такому же принципу именования найдите функцию, которая возвращает индекс максимального/минимального (в завимости от варианта) элемента в массиве.\n",
        "\n",
        "Воспользуйтесь найденной функцией и найдите индексы максимальных элементов в каждом столбце 2D матрицы:"
      ]
    },
    {
      "cell_type": "code",
      "metadata": {
        "id": "GIwnSasxiOzc",
        "outputId": "2e505df7-c780-4158-f756-616141522e47",
        "colab": {
          "base_uri": "https://localhost:8080/",
          "height": 134
        }
      },
      "source": [
        "arr = np.array([\n",
        "    [11, -1, 1, 3, 5],\n",
        "    [6, 1, 0, -1, 10],\n",
        "    [1, 3, 2, 3, 6],\n",
        "    [5, 2, 7, 8, 9],\n",
        "])\n",
        "\n",
        "print(arr)\n",
        "\n",
        "# TODO - напишите код поиска индексов максимальных/минимальных \n",
        "#           элементов в массиве по столбцам: [0 2 3 3 1]/[2 0 1 1 0]\n",
        "print('///////')\n",
        "print(np.argmax(arr,axis = 0))\n",
        "print(np.argmin(arr,axis = 0))"
      ],
      "execution_count": 174,
      "outputs": [
        {
          "output_type": "stream",
          "text": [
            "[[11 -1  1  3  5]\n",
            " [ 6  1  0 -1 10]\n",
            " [ 1  3  2  3  6]\n",
            " [ 5  2  7  8  9]]\n",
            "///////\n",
            "[0 2 3 3 1]\n",
            "[2 0 1 1 0]\n"
          ],
          "name": "stdout"
        }
      ]
    },
    {
      "cell_type": "markdown",
      "metadata": {
        "id": "xFyTwxfZkrQt"
      },
      "source": [
        "\n",
        "Задание 11\n",
        "\n",
        "Напишите код сортировки массива по столбцам:"
      ]
    },
    {
      "cell_type": "code",
      "metadata": {
        "id": "y9uNb27ei-MD",
        "outputId": "9225e79d-82ea-4ce6-8992-dca67df09511",
        "colab": {
          "base_uri": "https://localhost:8080/",
          "height": 168
        }
      },
      "source": [
        "arr = np.array([\n",
        "    [11, 2, 1, 3, 5],\n",
        "    [6, 2, 0, -1, 10],\n",
        "    [1, 3, 2, 3, 5],\n",
        "    [5, 2, 7, 8, 9],\n",
        "])\n",
        "print(arr)\n",
        "print('///////')\n",
        "print(np.sort(arr,axis = 0))\n",
        "# TODO - напишите код сортировки:\n",
        "# [[ 1  2  0 -1  5]\n",
        "#  [ 5  2  1  3  5]\n",
        "#  [ 6  2  2  3  9]\n",
        "#  [11  3  7  8 10]]"
      ],
      "execution_count": 120,
      "outputs": [
        {
          "output_type": "stream",
          "text": [
            "[[11  2  1  3  5]\n",
            " [ 6  2  0 -1 10]\n",
            " [ 1  3  2  3  5]\n",
            " [ 5  2  7  8  9]]\n",
            "///////\n",
            "[[ 1  2  0 -1  5]\n",
            " [ 5  2  1  3  5]\n",
            " [ 6  2  2  3  9]\n",
            " [11  3  7  8 10]]\n"
          ],
          "name": "stdout"
        }
      ]
    },
    {
      "cell_type": "markdown",
      "metadata": {
        "id": "OFVjIqaklAuL"
      },
      "source": [
        "Задачки"
      ]
    },
    {
      "cell_type": "markdown",
      "metadata": {
        "id": "igYQCttzlDRD"
      },
      "source": [
        "Создайте массив, состоящий из случайных элементов в диапазоне $[-10; 20]$ размером $(5, 7)$:"
      ]
    },
    {
      "cell_type": "code",
      "metadata": {
        "id": "Ojpme9GBlBw7",
        "outputId": "87249663-af2c-4f09-9967-484a073542a1",
        "colab": {
          "base_uri": "https://localhost:8080/",
          "height": 101
        }
      },
      "source": [
        "# TODO - создайте массив со случайными целочисленными элементами\n",
        "print(np.random.randint(low = -10, high = 20, size = [5, 7]))"
      ],
      "execution_count": 123,
      "outputs": [
        {
          "output_type": "stream",
          "text": [
            "[[ -2  18   2  14   4 -10  -2]\n",
            " [ 16   4   7  14   8   6  -1]\n",
            " [ 13  10  10  10 -10   4   5]\n",
            " [  7  -3  -1   5  19   0  -7]\n",
            " [ 17  -9 -10  18  11  14  16]]\n"
          ],
          "name": "stdout"
        }
      ]
    },
    {
      "cell_type": "markdown",
      "metadata": {
        "id": "m3RJyE7AlUsj"
      },
      "source": [
        "\n",
        "Добавьте границу в виде нулей со всех сторон 2D массива:"
      ]
    },
    {
      "cell_type": "code",
      "metadata": {
        "id": "jd8GsBAwlXHK",
        "outputId": "ca0b9fb1-f7e8-4501-adcf-2edc833f9d2e",
        "colab": {
          "base_uri": "https://localhost:8080/",
          "height": 151
        }
      },
      "source": [
        "data = np.arange(1, 16).reshape((3, 5))\n",
        "print(data)\n",
        "\n",
        "# TODO - реализуйте добавление нулей со всех сторон массива:\n",
        "# [[ 0  0  0  0  0  0  0]\n",
        "#  [ 0  1  2  3  4  5  0]\n",
        "#  [ 0  6  7  8  9 10  0]\n",
        "#  [ 0 11 12 13 14 15  0]\n",
        "#  [ 0  0  0  0  0  0  0]]\n",
        "np.concatenate?\n",
        "arr = np.concatenate((np.zeros([3,1],dtype = int),data),axis =1)\n",
        "arr = np.concatenate((arr,np.zeros([3,1],dtype = int)),axis =1)\n",
        "arr = np.concatenate((np.zeros([1,7],dtype = int),arr),axis =0)\n",
        "arr = np.concatenate((arr,np.zeros([1,7],dtype = int)),axis =0)\n",
        "print(arr)\n"
      ],
      "execution_count": 142,
      "outputs": [
        {
          "output_type": "stream",
          "text": [
            "[[ 1  2  3  4  5]\n",
            " [ 6  7  8  9 10]\n",
            " [11 12 13 14 15]]\n",
            "[[ 0  0  0  0  0  0  0]\n",
            " [ 0  1  2  3  4  5  0]\n",
            " [ 0  6  7  8  9 10  0]\n",
            " [ 0 11 12 13 14 15  0]\n",
            " [ 0  0  0  0  0  0  0]]\n"
          ],
          "name": "stdout"
        }
      ]
    },
    {
      "cell_type": "markdown",
      "metadata": {
        "id": "WUtMQam0nnJ-"
      },
      "source": [
        "\n",
        "Разберитесь с функцией np.clip() и произведите ограничение массива, чтобы в нем значения были не более шести и не менее двух:"
      ]
    },
    {
      "cell_type": "code",
      "metadata": {
        "id": "40GeS9oZnnwW",
        "outputId": "53050d3b-3f30-4959-9ebb-5defae914071",
        "colab": {
          "base_uri": "https://localhost:8080/",
          "height": 134
        }
      },
      "source": [
        "\n",
        "data = np.arange(1, 16).reshape((3, 5))\n",
        "print(data)\n",
        "\n",
        "# TODO - ограничьте значения массива\n",
        "# [[2 2 3 4 5]\n",
        "#  [6 6 6 6 6]\n",
        "#  [6 6 6 6 6]]\n",
        "print('//////////////////')\n",
        "print(np.clip(data,2,6))"
      ],
      "execution_count": 199,
      "outputs": [
        {
          "output_type": "stream",
          "text": [
            "[[ 1  2  3  4  5]\n",
            " [ 6  7  8  9 10]\n",
            " [11 12 13 14 15]]\n",
            "//////////////////\n",
            "[[2 2 3 4 5]\n",
            " [6 6 6 6 6]\n",
            " [6 6 6 6 6]]\n"
          ],
          "name": "stdout"
        }
      ]
    },
    {
      "cell_type": "markdown",
      "metadata": {
        "id": "Q6pceBIun18d"
      },
      "source": [
        "\n",
        "Произведите модификацию массива так, чтобы значение в колонке результата соответствовало исходному значению, возведенному в степень индекса колонки"
      ]
    },
    {
      "cell_type": "code",
      "metadata": {
        "id": "bS5Hbrjtn2m-",
        "outputId": "1a6f333a-7888-46d4-d269-17f7e19bdbad",
        "colab": {
          "base_uri": "https://localhost:8080/",
          "height": 134
        }
      },
      "source": [
        "data = np.full((3, 5), fill_value=2, dtype=np.int32)\n",
        "print(data)\n",
        "\n",
        "# TODO - возведите значения в колонках в степень индекса колонки\n",
        "# [[ 1  2  4  8 16]\n",
        "#  [ 1  2  4  8 16]\n",
        "#  [ 1  2  4  8 16]]\n",
        "print('//////////////////')\n",
        "print(np.power(data,np.arange(5)))"
      ],
      "execution_count": 198,
      "outputs": [
        {
          "output_type": "stream",
          "text": [
            "[[2 2 2 2 2]\n",
            " [2 2 2 2 2]\n",
            " [2 2 2 2 2]]\n",
            "//////////////////\n",
            "[[ 1  2  4  8 16]\n",
            " [ 1  2  4  8 16]\n",
            " [ 1  2  4  8 16]]\n"
          ],
          "name": "stdout"
        }
      ]
    },
    {
      "cell_type": "markdown",
      "metadata": {
        "id": "k4ba4mbnou8K"
      },
      "source": [
        "Умножьте каждую колонку на ее индекс:"
      ]
    },
    {
      "cell_type": "code",
      "metadata": {
        "id": "hkBlwWz9oy-y",
        "outputId": "bfed81b8-8b8a-4f1f-80a5-a73091a6a211",
        "colab": {
          "base_uri": "https://localhost:8080/",
          "height": 134
        }
      },
      "source": [
        "data = np.full((3, 5), fill_value=2, dtype=np.int32)\n",
        "print(data)\n",
        "\n",
        "# TODO - Умножьте каждый столбец на свой индекс\n",
        "# [[0 2 4 6 8]\n",
        "#  [0 2 4 6 8]\n",
        "#  [0 2 4 6 8]]\n",
        "print('//////////////////')\n",
        "print(data*np.arange(5))\n"
      ],
      "execution_count": 197,
      "outputs": [
        {
          "output_type": "stream",
          "text": [
            "[[2 2 2 2 2]\n",
            " [2 2 2 2 2]\n",
            " [2 2 2 2 2]]\n",
            "//////////////////\n",
            "[[0 2 4 6 8]\n",
            " [0 2 4 6 8]\n",
            " [0 2 4 6 8]]\n"
          ],
          "name": "stdout"
        }
      ]
    },
    {
      "cell_type": "markdown",
      "metadata": {
        "id": "uOoCsYpBpvGx"
      },
      "source": [
        "\n",
        "Умножьте каждый четный ряд в матрице на вектор:"
      ]
    },
    {
      "cell_type": "code",
      "metadata": {
        "id": "vMHdRgWSp38l",
        "outputId": "d7a8867e-8487-4be5-8c6b-3e185e45ac76",
        "colab": {
          "base_uri": "https://localhost:8080/",
          "height": 269
        }
      },
      "source": [
        "data = np.repeat(np.arange(1, 8), 4).reshape(7, 4)\n",
        "vec = np.array([1, 2, 1, 2])\n",
        "print(data)\n",
        "\n",
        "# TODO - умножьте каждый четный ряд в матрице на вектор\n",
        "# [[ 1  2  1  2]\n",
        "#  [ 2  2  2  2]\n",
        "#  [ 3  6  3  6]\n",
        "#  [ 4  4  4  4]\n",
        "#  [ 5 10  5 10]\n",
        "#  [ 6  6  6  6]\n",
        "#  [ 7 14  7 14]]\n",
        "i = 0\n",
        "print('//////////////////')\n",
        "for i in range(7):\n",
        "  if np.mod(i,2) == 0:\n",
        "    data[i,:] = data[i,:]*vec\n",
        "print(data)"
      ],
      "execution_count": 196,
      "outputs": [
        {
          "output_type": "stream",
          "text": [
            "[[1 1 1 1]\n",
            " [2 2 2 2]\n",
            " [3 3 3 3]\n",
            " [4 4 4 4]\n",
            " [5 5 5 5]\n",
            " [6 6 6 6]\n",
            " [7 7 7 7]]\n",
            "//////////////////\n",
            "[[ 1  2  1  2]\n",
            " [ 2  2  2  2]\n",
            " [ 3  6  3  6]\n",
            " [ 4  4  4  4]\n",
            " [ 5 10  5 10]\n",
            " [ 6  6  6  6]\n",
            " [ 7 14  7 14]]\n"
          ],
          "name": "stdout"
        }
      ]
    },
    {
      "cell_type": "markdown",
      "metadata": {
        "id": "AX10nbIXuTx4"
      },
      "source": [
        "\n",
        "Определите индексы двух наибольших элементов в матрице по каждому ряду:"
      ]
    },
    {
      "cell_type": "code",
      "metadata": {
        "id": "b73us8StuUgW",
        "outputId": "3a28b274-317e-4cdc-df33-c2afcc991ce9",
        "colab": {
          "base_uri": "https://localhost:8080/",
          "height": 168
        }
      },
      "source": [
        "data = np.array([[20, 22,  2, 14, 25,  8],\n",
        "                [ 7, 25, 23,  3, 22, 15],\n",
        "                [ 8, 16,  9, 22,  0,  9],\n",
        "                [ 4, 24, 24, 28,  3, 40]])\n",
        "print(data)\n",
        "\n",
        "# TODO - определите индексы двух наибольших элементов по каждому ряду\n",
        "# [[4 1]\n",
        "#  [1 2]\n",
        "#  [3 1]\n",
        "#  [5 3]]\n",
        "print('//////////////////')\n",
        "print(np.flip(np.argsort(data),axis = 1)[:,0:2])\n"
      ],
      "execution_count": 195,
      "outputs": [
        {
          "output_type": "stream",
          "text": [
            "[[20 22  2 14 25  8]\n",
            " [ 7 25 23  3 22 15]\n",
            " [ 8 16  9 22  0  9]\n",
            " [ 4 24 24 28  3 40]]\n",
            "//////////////////\n",
            "[[4 1]\n",
            " [1 2]\n",
            " [3 1]\n",
            " [5 3]]\n"
          ],
          "name": "stdout"
        }
      ]
    },
    {
      "cell_type": "markdown",
      "metadata": {
        "id": "KMRCClzZxsiL"
      },
      "source": [
        "\n",
        "Выберите две случайные колонки из массива:"
      ]
    },
    {
      "cell_type": "code",
      "metadata": {
        "id": "6Q7z6t2xxtHr",
        "outputId": "8dd1eb4e-2c34-4cd8-bdcb-4b3cf0aa6d0c",
        "colab": {
          "base_uri": "https://localhost:8080/",
          "height": 202
        }
      },
      "source": [
        "data = np.array([[20, 22,  2, 14, 25,  8],\n",
        "                [ 7, 25, 23,  3, 22, 15],\n",
        "                [ 8, 16,  9, 22,  0,  9],\n",
        "                [ 4, 24, 24, 28,  3, 40]])\n",
        "print(data)\n",
        "\n",
        "# TODO - выберите случайные две колонки из массива\n",
        "# *Например,\n",
        "# [[22  8]\n",
        "#  [25 15]\n",
        "#  [16  9]\n",
        "#  [24 40]]\n",
        "\n",
        "print(data[:,np.random.randint(low = 0, high = 5, size = [1,2])])"
      ],
      "execution_count": 210,
      "outputs": [
        {
          "output_type": "stream",
          "text": [
            "[[20 22  2 14 25  8]\n",
            " [ 7 25 23  3 22 15]\n",
            " [ 8 16  9 22  0  9]\n",
            " [ 4 24 24 28  3 40]]\n",
            "[[[22  2]]\n",
            "\n",
            " [[25 23]]\n",
            "\n",
            " [[16  9]]\n",
            "\n",
            " [[24 24]]]\n"
          ],
          "name": "stdout"
        }
      ]
    },
    {
      "cell_type": "markdown",
      "metadata": {
        "id": "To6ftgX_yv-F"
      },
      "source": [
        "\n",
        "Создайте массив размером $(10, 3)$, который состоит из повторяющихся рядов исходного массива:"
      ]
    },
    {
      "cell_type": "code",
      "metadata": {
        "id": "-dMzdvojyvWK",
        "outputId": "59180dce-2f64-4d63-ed30-d8a81023d744",
        "colab": {
          "base_uri": "https://localhost:8080/",
          "height": 252
        }
      },
      "source": [
        "data = np.arange(9).reshape(3, 3)\n",
        "print(data)\n",
        "\n",
        "# TODO - создайте массив из повторяющихся рядов размером (10, 3)\n",
        "# *Например,\n",
        "# [[3 4 5]\n",
        "#  [6 7 8]\n",
        "#  [0 1 2]\n",
        "#  [6 7 8]\n",
        "#  [3 4 5]\n",
        "#  [6 7 8]\n",
        "#  [6 7 8]\n",
        "#  [6 7 8]\n",
        "#  [6 7 8]\n",
        "#  [0 1 2]]\n",
        "print('///////////////////')\n",
        "y  = data[0:2,:]\n",
        "newdata = np.concatenate((data, y), axis =0 )\n",
        "newdata = np.concatenate((newdata, newdata), axis =0 )\n",
        "print(np.random.permutation(newdata))"
      ],
      "execution_count": 232,
      "outputs": [
        {
          "output_type": "stream",
          "text": [
            "[[0 1 2]\n",
            " [3 4 5]\n",
            " [6 7 8]]\n",
            "///////////////////\n",
            "[[6 7 8]\n",
            " [6 7 8]\n",
            " [0 1 2]\n",
            " [0 1 2]\n",
            " [3 4 5]\n",
            " [3 4 5]\n",
            " [0 1 2]\n",
            " [3 4 5]\n",
            " [3 4 5]\n",
            " [0 1 2]]\n"
          ],
          "name": "stdout"
        }
      ]
    },
    {
      "cell_type": "markdown",
      "metadata": {
        "id": "I706K_6o2BgM"
      },
      "source": [
        "\n",
        "Соберите массив, состоящий из элементов 2й и 4й колонок и строк с 1й по 3ю:"
      ]
    },
    {
      "cell_type": "code",
      "metadata": {
        "id": "Wn-OsXhS2B8Z",
        "outputId": "b0147c46-6ba5-4409-beb7-f62189f51a3e",
        "colab": {
          "base_uri": "https://localhost:8080/",
          "height": 168
        }
      },
      "source": [
        "data = np.array([[20, 22,  2, 14, 25,  8],\n",
        "                [ 7, 25, 23,  3, 22, 15],\n",
        "                [ 8, 16,  9, 22,  0,  9],\n",
        "                [ 14, 9,  33, 21,  7,  6],\n",
        "                [ 4, 24, 24, 28,  3, 40]])\n",
        "print(data)\n",
        "# TODO - соберите матрицу из конкретных элементов массива\n",
        "# [[23 22]\n",
        "#  [ 9  0]\n",
        "#  [33  7]]\n",
        "newdata = np.array([[data[1,2], data[1,4]],\n",
        "           [data[2,2], data[2,4]],\n",
        "           [data[3,2], data[3,4]]])\n",
        "print('/////////')\n",
        "print(newdata)"
      ],
      "execution_count": 241,
      "outputs": [
        {
          "output_type": "stream",
          "text": [
            "[[20 22  2 14 25  8]\n",
            " [ 7 25 23  3 22 15]\n",
            " [ 8 16  9 22  0  9]\n",
            " [14  9 33 21  7  6]\n",
            " [ 4 24 24 28  3 40]]\n",
            "/////////\n",
            "[[23 22]\n",
            " [ 9  0]\n",
            " [33  7]]\n"
          ],
          "name": "stdout"
        }
      ]
    },
    {
      "cell_type": "markdown",
      "metadata": {
        "id": "KOB_mB_S3PTy"
      },
      "source": [
        "\n",
        "Инвертируйте порядок элементов в последних двух колонках:"
      ]
    },
    {
      "cell_type": "code",
      "metadata": {
        "id": "pBnOgZSq3Se2",
        "outputId": "8b3f89dc-4415-48d0-9759-fab54899f92c",
        "colab": {
          "base_uri": "https://localhost:8080/",
          "height": 202
        }
      },
      "source": [
        "data = np.array([[20, 22,  2, 14, 25,  8],\n",
        "                [ 7, 25, 23,  3, 22, 15],\n",
        "                [ 8, 16,  9, 22,  0,  9],\n",
        "                [ 14, 9,  33, 21,  7,  6],\n",
        "                [ 4, 24, 24, 28,  3, 40]])\n",
        "print(data)\n",
        "# TODO - инвертируйте порядок последних двух колонок\n",
        "# [[20 22  2 14  3 40]\n",
        "#  [ 7 25 23  3  7  6]\n",
        "#  [ 8 16  9 22  0  9]\n",
        "#  [14  9 33 21 22 15]\n",
        "#  [ 4 24 24 28 25  8]]\n",
        "print('/////////')\n",
        "data1 = np.flip(data[:,4:6],axis = 0)\n",
        "data2 = data\n",
        "data2[:,4:6] = data1\n",
        "print(data2)"
      ],
      "execution_count": 252,
      "outputs": [
        {
          "output_type": "stream",
          "text": [
            "[[20 22  2 14 25  8]\n",
            " [ 7 25 23  3 22 15]\n",
            " [ 8 16  9 22  0  9]\n",
            " [14  9 33 21  7  6]\n",
            " [ 4 24 24 28  3 40]]\n",
            "/////////\n",
            "[[20 22  2 14  3 40]\n",
            " [ 7 25 23  3  7  6]\n",
            " [ 8 16  9 22  0  9]\n",
            " [14  9 33 21 22 15]\n",
            " [ 4 24 24 28 25  8]]\n"
          ],
          "name": "stdout"
        }
      ]
    }
  ]
}